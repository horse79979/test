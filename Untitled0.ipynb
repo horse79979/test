{
  "nbformat": 4,
  "nbformat_minor": 0,
  "metadata": {
    "colab": {
      "name": "Untitled0.ipynb",
      "provenance": [],
      "authorship_tag": "ABX9TyO7WYO+yYQMuybpkpVTAxm6",
      "include_colab_link": true
    },
    "kernelspec": {
      "name": "python3",
      "display_name": "Python 3"
    }
  },
  "cells": [
    {
      "cell_type": "markdown",
      "metadata": {
        "id": "view-in-github",
        "colab_type": "text"
      },
      "source": [
        "<a href=\"https://colab.research.google.com/github/horse79979/test/blob/master/Untitled0.ipynb\" target=\"_parent\"><img src=\"https://colab.research.google.com/assets/colab-badge.svg\" alt=\"Open In Colab\"/></a>"
      ]
    },
    {
      "cell_type": "code",
      "metadata": {
        "id": "QHc2phfBroJa"
      },
      "source": [
        "import math\r\n",
        "import numpy as np\r\n",
        "import matplotlib.pyplot as plt\r\n",
        "\r\n",
        "E1=8*10**9\r\n",
        "E2=8*10**9\r\n",
        "E3=140*10**9\r\n",
        "nu12=0.1\r\n",
        "nu21=0.1\r\n",
        "nu13=0.3\r\n",
        "nu31=0.3\r\n",
        "nu23=0.3\r\n",
        "nu32=0.3\r\n",
        "G12=1*10**9\r\n",
        "G13=1*10**9\r\n",
        "G23=1*10**9\r\n",
        "E11=[]\r\n",
        "for deg in range(0,361,1):\r\n",
        " theta = deg*math.pi/180\r\n",
        " T=np.array([[(math.cos(theta))**2, (math.sin(theta))**2, 0, 0, 0, (math.sin(theta))*math.cos(theta)],\r\n",
        "    [(math.sin(theta))**2, (math.cos(theta))**2, 0, 0, 0, -(math.sin(theta))*math.cos(theta)],\r\n",
        "    [0,0,1,0,0,0],\r\n",
        "    [0,0,0, math.cos(theta), math.sin(theta), 0],\r\n",
        "    [0,0,0, -math.sin(theta), math.cos(theta), 0],\r\n",
        "    [(-2*math.sin(theta))*math.cos(theta), 2*(math.sin(theta))*math.cos(theta), 0, 0, 0, (math.cos(theta))**2-(math.sin(theta))**2]])\r\n",
        " Tinv=np.linalg.inv(T)\r\n",
        " Comp=np.array([[1/E1,-nu21/E2,-nu31/E3,0,0,0],[-nu12/E1,1/E2,-nu32/E3,0,0,0],[-nu13/E1,-nu23/E2,1/E3,0,0,0],[0,0,0,1/2/G23,0,0],[0,0,0,0,1/2/G13,0],[0,0,0,0,0,1/2/G12]])\r\n",
        " Stiff=np.linalg.inv(Comp)\r\n",
        " Tcomp=np.dot(np.dot(Tinv,Comp),T)\r\n",
        " Tstiff=np.linalg.inv(Tcomp)\r\n",
        " E11.append(Tcomp[1][1])\r\n",
        "plt.plot(range(0,361,1),E11)\r\n",
        "plt.xlabel('Degree')\r\n",
        "plt.ylabel('E11')\r\n",
        "stickrange=np.arange(0,361,90)\r\n",
        "plt.xticks(stickrange)\r\n",
        "plt.show()"
      ],
      "execution_count": null,
      "outputs": []
    }
  ]
}